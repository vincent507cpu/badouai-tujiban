{
 "cells": [
  {
   "cell_type": "code",
   "execution_count": 9,
   "id": "0d1e69b2-7125-40e7-ab81-b9418659dbcb",
   "metadata": {},
   "outputs": [],
   "source": [
    "import openpyxl\n",
    "import numpy as np"
   ]
  },
  {
   "cell_type": "code",
   "execution_count": 2,
   "id": "3e187ddb-c803-40ad-bd66-6746f81fc150",
   "metadata": {},
   "outputs": [],
   "source": [
    "def build_u2i_matrix(user_item_score_data_path, item_name_data_path, write_file=False):\n",
    "    #获取item id到电影名的对应关系\n",
    "    item_id_to_item_name = {}\n",
    "    with open(item_name_data_path, encoding=\"ISO-8859-1\") as f:\n",
    "        for line in f:\n",
    "            item_id, item_name = line.split(\"|\")[:2]\n",
    "            item_id = int(item_id)\n",
    "            item_id_to_item_name[item_id] = item_name\n",
    "    total_movie_count = len(item_id_to_item_name)\n",
    "    #读打分文件\n",
    "    user_to_rating = {}\n",
    "    with open(user_item_score_data_path, encoding=\"ISO-8859-1\") as f:\n",
    "        for line in f:\n",
    "            user_id, item_id, score, time_stamp = line.split(\"\\t\")\n",
    "            user_id, item_id, score = int(user_id), int(item_id), int(score)\n",
    "            if user_id not in user_to_rating:\n",
    "                user_to_rating[user_id] = [0] * total_movie_count\n",
    "            user_to_rating[user_id][item_id - 1] = score\n",
    "    \n",
    "    if not write_file:\n",
    "        return user_to_rating, item_id_to_item_name\n",
    "    \n",
    "    # 写入excel便于查看\n",
    "    workbook = openpyxl.Workbook()\n",
    "    sheet = workbook.create_sheet(index=0)\n",
    "    #第一行：user_id, movie1, movie2...\n",
    "    header = [\"user_id\"] + [item_id_to_item_name[i + 1] for i in range(total_movie_count)]\n",
    "    sheet.append(header)\n",
    "    for i in range(len(user_to_rating)):\n",
    "        #每行：user_id, rate1, rate2...\n",
    "        line = [i + 1] + user_to_rating[i + 1]\n",
    "        sheet.append(line)\n",
    "    workbook.save(\"user_movie_rating.xlsx\")\n",
    "    return user_to_rating, item_id_to_item_name"
   ]
  },
  {
   "cell_type": "code",
   "execution_count": 3,
   "id": "aa48f4ac-fe32-4c4e-bfcc-5004a73291c1",
   "metadata": {},
   "outputs": [],
   "source": [
    "#向量余弦距离\n",
    "def cosine_distance(vector1, vector2):\n",
    "    ab = vector1.dot(vector2)\n",
    "    a_norm = np.sqrt(np.sum(np.square(vector1)))\n",
    "    b_norm = np.sqrt(np.sum(np.square(vector2)))\n",
    "    return ab/(a_norm * b_norm)\n",
    "\n",
    "\n",
    "#依照user对item的打分判断user之间的相似度\n",
    "def find_similar_user(user_to_rating):\n",
    "    user_to_similar_user = {}\n",
    "    score_buffer = {}\n",
    "    for user_a, ratings_a in user_to_rating.items():\n",
    "        similar_user = []\n",
    "        for user_b, ratings_b in user_to_rating.items():\n",
    "            if user_b == user_a or user_b>100 or user_a > 100:\n",
    "                continue\n",
    "            #ab用户互换不用重新计算cos\n",
    "            if \"%d_%d\"%(user_b, user_a) in score_buffer:\n",
    "                similarity = score_buffer[\"%d_%d\"%(user_b, user_a)]\n",
    "            else:\n",
    "                similarity = cosine_distance(np.array(ratings_a), np.array(ratings_b))\n",
    "                score_buffer[\"%d_%d\" % (user_a, user_b)] = similarity\n",
    "\n",
    "            similar_user.append([user_b, similarity])\n",
    "        similar_user = sorted(similar_user, reverse=True, key=lambda x:x[1])\n",
    "        user_to_similar_user[user_a] = similar_user\n",
    "    return user_to_similar_user"
   ]
  },
  {
   "cell_type": "code",
   "execution_count": 37,
   "id": "a02d8f53-f6a9-4fde-bfcf-c672a6657b54",
   "metadata": {},
   "outputs": [],
   "source": [
    "def get_user_favorites(user_id, user_to_rating):\n",
    "    ratings = np.array(user_to_rating[user_id])\n",
    "    top_ratings = np.argsort(ratings)[::-1]\n",
    "\n",
    "    return top_ratings\n",
    "\n",
    "def get_item_similarity(favo_item, item_id):\n",
    "    favo_item_rating = np.array([rating[favo_item] for rating in user_to_rating.values()])\n",
    "    item_rating = np.array([rating[item_id] for rating in user_to_rating.values()])\n",
    "\n",
    "    return cosine_distance(favo_item_rating, item_rating)\n",
    "\n",
    "def get_item_rating_by_user(user_id, item_id):\n",
    "    return user_to_rating[user_id][item_id]"
   ]
  },
  {
   "cell_type": "code",
   "execution_count": 4,
   "id": "3b0b89d2-16c9-42f9-bf7c-d4af9c65ff5f",
   "metadata": {},
   "outputs": [],
   "source": [
    "def movie_recommand(user_id, similar_user, user_to_rating, item_to_name, topn=10):\n",
    "    unseen_items = [item_id for item_id, rating in enumerate(user_to_rating[user_id]) if rating == 0]\n",
    "    res = []\n",
    "    for item_id in unseen_items:\n",
    "        score = user_cf(user_id, item_id, similar_user, user_to_rating)\n",
    "        res.append([item_to_name[item_id + 1], score])\n",
    "    res = sorted(res, key=lambda x:x[1], reverse=True)\n",
    "    return res[:topn]"
   ]
  },
  {
   "cell_type": "code",
   "execution_count": 5,
   "id": "43e6ac8b-cd3f-4b0d-a769-7ffa6a52f0b0",
   "metadata": {},
   "outputs": [],
   "source": [
    "user_item_score_data_path = \"ml-100k/u.data\"\n",
    "item_name_data_path = \"ml-100k/u.item\"\n",
    "user_to_rating, item_to_name = build_u2i_matrix(user_item_score_data_path, item_name_data_path, False)"
   ]
  },
  {
   "cell_type": "code",
   "execution_count": 7,
   "id": "76fedf2e-9909-44a9-962f-0c4eefee302d",
   "metadata": {},
   "outputs": [
    {
     "name": "stdout",
     "output_type": "stream",
     "text": [
      "[0, 0, 0, 0, 0, 0, 0, 5, 0, 0, 0, 0, 2, 0, 0, 0, 0, 0, 0, 0, 0, 0, 0, 0, 4, 0, 0, 0, 0, 0, 0, 0, 0, 0, 0, 0, 0, 0, 0, 0, 0, 0, 0, 0, 0, 0, 0, 0, 0, 0, 0, 0, 0, 0, 0, 0, 0, 0, 0, 0, 0, 0, 0, 0, 0, 3, 5, 0, 0, 3, 0, 0, 0, 0, 0, 0, 0, 0, 0, 0, 0, 0, 0, 0, 0, 0, 0, 0, 0, 0, 0, 0, 0, 3, 0, 0, 0, 0, 0, 0, 0, 0, 0, 0, 0, 0, 0, 4, 0, 1, 4, 0, 0, 0, 0, 3, 0, 0, 0, 0, 0, 0, 0, 0, 0, 0, 0, 0, 0, 0, 0, 0, 0, 0, 0, 0, 0, 0, 0, 0, 0, 0, 0, 0, 0, 0, 0, 0, 0, 0, 0, 0, 5, 0, 0, 0, 0, 0, 0, 0, 0, 0, 0, 0, 0, 0, 0, 0, 0, 0, 0, 0, 2, 0, 0, 0, 0, 0, 0, 0, 0, 0, 0, 0, 0, 0, 0, 0, 0, 0, 0, 0, 0, 0, 0, 0, 0, 0, 0, 0, 0, 3, 0, 0, 0, 0, 0, 0, 0, 0, 0, 0, 0, 0, 0, 0, 0, 0, 0, 0, 0, 0, 0, 0, 0, 0, 0, 0, 0, 0, 0, 0, 0, 0, 0, 0, 0, 4, 0, 0, 0, 3, 0, 0, 0, 0, 0, 0, 0, 0, 3, 0, 0, 0, 0, 0, 2, 0, 0, 0, 0, 0, 0, 0, 0, 0, 0, 0, 3, 0, 0, 0, 0, 0, 0, 0, 0, 0, 0, 0, 0, 0, 0, 0, 5, 5, 3, 0, 0, 0, 0, 0, 0, 0, 0, 0, 0, 0, 0, 0, 0, 0, 0, 0, 0, 4, 0, 0, 0, 0, 0, 0, 0, 0, 0, 0, 0, 0, 0, 0, 0, 0, 0, 0, 0, 0, 0, 0, 0, 0, 0, 0, 0, 0, 0, 0, 0, 0, 0, 3, 0, 0, 0, 0, 0, 0, 0, 0, 0, 0, 0, 0, 0, 0, 0, 0, 0, 0, 0, 0, 0, 0, 0, 0, 0, 0, 0, 0, 0, 0, 0, 0, 0, 0, 0, 0, 0, 0, 0, 0, 4, 4, 0, 0, 0, 0, 0, 0, 0, 0, 0, 0, 4, 0, 0, 0, 0, 0, 0, 0, 0, 0, 0, 0, 0, 0, 0, 0, 0, 0, 4, 0, 0, 0, 0, 0, 0, 0, 0, 0, 0, 0, 0, 0, 0, 0, 0, 4, 0, 0, 0, 0, 0, 0, 0, 0, 0, 0, 0, 0, 0, 0, 0, 0, 0, 0, 0, 0, 0, 0, 0, 0, 0, 0, 0, 0, 0, 0, 0, 0, 0, 0, 0, 0, 0, 0, 0, 0, 0, 0, 0, 0, 0, 0, 0, 0, 0, 0, 0, 0, 0, 0, 0, 0, 0, 0, 0, 0, 0, 0, 0, 0, 0, 0, 0, 0, 0, 0, 0, 0, 0, 0, 0, 0, 0, 0, 0, 0, 0, 0, 0, 0, 0, 0, 0, 0, 0, 0, 0, 0, 0, 0, 0, 0, 0, 0, 0, 0, 0, 0, 0, 0, 0, 0, 0, 0, 0, 0, 0, 0, 0, 0, 0, 0, 0, 0, 0, 0, 0, 0, 0, 0, 0, 0, 0, 0, 0, 0, 0, 0, 0, 0, 0, 0, 0, 0, 0, 0, 0, 0, 0, 0, 0, 0, 0, 0, 0, 0, 0, 2, 0, 0, 0, 0, 0, 0, 0, 0, 0, 0, 0, 0, 0, 0, 0, 0, 0, 0, 0, 0, 0, 0, 0, 0, 0, 0, 0, 0, 0, 0, 0, 0, 0, 0, 0, 0, 0, 0, 0, 0, 0, 0, 0, 0, 0, 0, 0, 0, 0, 0, 0, 0, 0, 0, 0, 0, 0, 0, 0, 0, 0, 0, 0, 0, 0, 0, 0, 0, 0, 0, 0, 0, 0, 0, 5, 0, 0, 0, 0, 0, 0, 0, 5, 0, 0, 0, 0, 0, 0, 0, 0, 0, 0, 0, 0, 0, 0, 0, 0, 0, 0, 0, 0, 0, 0, 0, 0, 0, 0, 0, 0, 5, 0, 0, 0, 0, 0, 0, 0, 0, 0, 0, 0, 0, 0, 0, 0, 0, 0, 0, 0, 0, 0, 0, 0, 0, 0, 0, 0, 0, 0, 0, 0, 0, 0, 0, 0, 0, 0, 0, 0, 0, 0, 0, 0, 0, 0, 0, 0, 0, 0, 0, 0, 0, 0, 0, 0, 0, 0, 0, 0, 0, 0, 0, 0, 0, 0, 0, 0, 0, 0, 3, 0, 0, 0, 0, 0, 0, 0, 0, 0, 0, 0, 0, 0, 0, 0, 0, 0, 0, 0, 0, 0, 0, 0, 0, 0, 0, 0, 0, 0, 0, 0, 0, 0, 0, 0, 0, 0, 0, 0, 0, 0, 0, 0, 0, 0, 0, 0, 0, 0, 0, 0, 0, 0, 0, 0, 0, 0, 0, 0, 0, 0, 0, 0, 0, 0, 0, 0, 0, 0, 0, 0, 0, 0, 0, 0, 0, 0, 0, 0, 0, 0, 0, 4, 0, 0, 0, 0, 0, 0, 0, 0, 0, 0, 0, 0, 0, 0, 0, 0, 0, 0, 0, 0, 0, 0, 0, 0, 0, 0, 0, 0, 0, 0, 0, 0, 0, 0, 0, 0, 0, 0, 0, 0, 0, 0, 0, 0, 0, 0, 0, 0, 0, 0, 0, 0, 0, 0, 0, 0, 0, 0, 0, 0, 0, 0, 0, 0, 0, 0, 0, 0, 0, 0, 0, 0, 0, 0, 0, 0, 0, 0, 0, 0, 0, 0, 0, 0, 0, 0, 0, 0, 0, 0, 0, 0, 0, 0, 0, 0, 0, 0, 0, 0, 0, 0, 0, 0, 0, 0, 0, 0, 0, 0, 0, 0, 0, 0, 0, 0, 0, 0, 0, 0, 0, 0, 0, 0, 0, 0, 0, 0, 0, 0, 0, 0, 0, 0, 0, 0, 0, 0, 0, 0, 0, 0, 0, 0, 0, 0, 0, 0, 0, 0, 0, 0, 0, 0, 0, 0, 0, 0, 0, 0, 0, 4, 0, 0, 0, 0, 0, 0, 0, 0, 0, 0, 0, 0, 0, 0, 4, 0, 0, 0, 0, 0, 0, 0, 0, 0, 0, 0, 0, 0, 0, 0, 0, 0, 0, 0, 0, 0, 0, 0, 0, 0, 0, 0, 0, 0, 0, 0, 0, 0, 0, 0, 0, 0, 0, 0, 0, 0, 0, 0, 0, 0, 0, 0, 0, 0, 0, 0, 0, 0, 0, 0, 0, 0, 0, 0, 0, 0, 0, 0, 0, 0, 0, 0, 0, 0, 0, 0, 0, 0, 0, 0, 0, 0, 0, 0, 0, 0, 0, 0, 0, 0, 0, 0, 0, 0, 0, 0, 0, 0, 0, 0, 4, 0, 0, 0, 0, 0, 0, 0, 0, 0, 0, 0, 0, 0, 0, 0, 0, 0, 0, 0, 0, 0, 0, 0, 0, 0, 0, 0, 0, 0, 0, 0, 0, 0, 0, 0, 0, 0, 0, 0, 0, 0, 0, 0, 0, 0, 0, 0, 0, 0, 0, 0, 0, 0, 0, 0, 0, 0, 0, 0, 0, 0, 0, 0, 0, 0, 0, 0, 0, 0, 0, 0, 0, 0, 0, 0, 0, 0, 0, 0, 0, 0, 0, 0, 0, 0, 0, 0, 0, 0, 0, 0, 0, 0, 0, 0, 0, 0, 0, 0, 0, 0, 0, 0, 0, 0, 0, 0, 0, 0, 0, 0, 0, 0, 0, 0, 0, 0, 0, 0, 0, 0, 0, 3, 0, 0, 0, 0, 0, 0, 0, 0, 0, 0, 0, 0, 0, 0, 0, 0, 0, 0, 0, 0, 0, 0, 0, 0, 0, 0, 0, 0, 0, 0, 0, 0, 0, 0, 0, 0, 0, 0, 0, 0, 0, 0, 0, 0, 0, 0, 0, 0, 0, 0, 0, 0, 0, 0, 0, 0, 0, 0, 0, 0, 0, 0, 0, 0, 0, 0, 0, 0, 0, 0, 0, 0, 0, 0, 0, 0, 0, 0, 0, 0, 0, 0, 0, 0, 0, 0, 0, 0, 0, 0, 0, 0, 0, 0, 0, 0, 0, 0, 0, 0, 0, 0, 0, 0, 0, 0, 0, 0, 0, 0, 0, 0, 0, 0, 0, 0, 0, 0, 0, 0, 0, 0, 0, 0, 0, 0, 0, 0, 0, 0, 0, 0, 0, 0, 0, 0, 0, 0, 0, 0, 0, 0, 0, 0, 0, 0, 0, 0, 0, 0, 0, 0, 0, 0, 0, 0, 0, 0, 0, 0, 0, 0, 0, 0, 0, 0, 0, 0, 0, 0, 0, 0, 0, 0, 0, 0, 0, 0, 0, 0, 0, 0, 0, 0, 0, 0, 0, 0, 0, 0, 0, 0, 0, 0, 0, 0, 0, 0, 0, 0, 0, 0, 0, 0, 0, 0, 0, 0, 0, 0, 0, 0, 0, 0, 0, 0, 0, 0, 0, 0, 0, 0, 0, 0, 0, 0, 0, 0, 0, 0, 0, 0, 0, 0, 0, 0, 0, 0, 0, 0, 0, 0, 0, 0, 0, 0, 0, 0, 0, 0, 0, 0, 0, 0, 0, 0, 0, 0, 0, 0, 0, 0, 0, 0, 0, 0, 0, 0, 0, 0, 0, 0, 0, 0, 0, 0, 0, 0, 0, 0, 0, 0, 0, 0, 0, 0, 0, 0, 0, 0, 0, 0, 0, 0, 0, 0, 0, 0, 0, 0, 0, 0, 0, 0, 0, 0, 0, 0, 0, 0, 0, 0, 0, 0, 0, 0, 0, 0, 0, 0, 0, 0, 0, 0, 0, 0, 0, 0, 0, 0, 0, 0, 0, 0, 0, 0, 0, 0, 0, 0, 0, 0, 0, 0, 0, 0, 0, 0, 0, 0, 0, 0, 0, 0, 0, 0, 0, 0, 0, 0, 0, 0, 0, 0, 0, 0, 0, 0, 0, 0, 0, 0, 0, 0, 0, 0, 0, 0, 0, 0, 0, 0, 0, 0, 0, 0, 0, 0, 0, 0, 0, 0, 0, 0, 0, 0, 0, 0, 0, 0, 0, 0, 0, 0, 0, 0, 0, 0, 0, 0, 0, 0, 0, 0, 0, 0, 0, 0, 0, 0, 0, 0, 0, 0, 0, 0, 0, 0, 0, 0, 0, 0, 0, 0, 0, 0, 0, 0, 0, 0, 0]\n"
     ]
    }
   ],
   "source": [
    "print(user_to_rating[196])"
   ]
  },
  {
   "cell_type": "code",
   "execution_count": 29,
   "id": "4e612fb1-ed68-4444-bc04-0c1dc44d635b",
   "metadata": {},
   "outputs": [],
   "source": [
    "def get_user_favorites(user_id, user_to_rating, topn):\n",
    "    ratings_by_users = np.array([rating for rating in user_to_rating[user_id]])\n",
    "    top_ratings = np.argsort(ratings_by_users)[::-1]\n",
    "    top_scores = np.zeros(len(ratings_by_users), dtype=np.float32)\n",
    "\n",
    "    for index in top_ratings[:topn]:\n",
    "        top_scores[index] = ratings_by_users[index]\n",
    "    return top_scores"
   ]
  },
  {
   "cell_type": "code",
   "execution_count": 16,
   "id": "a0ceedee-709d-462e-9f73-aecb99764b63",
   "metadata": {},
   "outputs": [
    {
     "data": {
      "text/plain": [
       "array([0, 3, 1, 4, 2])"
      ]
     },
     "execution_count": 16,
     "metadata": {},
     "output_type": "execute_result"
    }
   ],
   "source": [
    "a = np.array([5, 3, 1, 4, 2])\n",
    "np.argsort(a)[::-1]"
   ]
  },
  {
   "cell_type": "code",
   "execution_count": 30,
   "id": "bc8acd6c-f42e-465e-8214-5bbd19645ec3",
   "metadata": {},
   "outputs": [],
   "source": [
    "def get_item_rating_by_user(user_id, item_id):\n",
    "    return user_to_rating[user_id][item_id]"
   ]
  },
  {
   "cell_type": "code",
   "execution_count": 44,
   "id": "cc5bce98-5cd8-4e0b-baaf-34fec2045fdd",
   "metadata": {},
   "outputs": [
    {
     "ename": "NameError",
     "evalue": "name 'item_id_to_item_name' is not defined",
     "output_type": "error",
     "traceback": [
      "\u001b[0;31m---------------------------------------------------------------------------\u001b[0m",
      "\u001b[0;31mNameError\u001b[0m                                 Traceback (most recent call last)",
      "\u001b[0;32m/var/folders/h4/qdmlvsbx67d1r79wvxt1nqhm0000gn/T/ipykernel_84862/373760827.py\u001b[0m in \u001b[0;36m<module>\u001b[0;34m\u001b[0m\n\u001b[1;32m     13\u001b[0m     \u001b[0;31m# print(favorite_item)\u001b[0m\u001b[0;34m\u001b[0m\u001b[0;34m\u001b[0m\u001b[0;34m\u001b[0m\u001b[0m\n\u001b[1;32m     14\u001b[0m \u001b[0;34m\u001b[0m\u001b[0m\n\u001b[0;32m---> 15\u001b[0;31m \u001b[0mitem_cf\u001b[0m\u001b[0;34m(\u001b[0m\u001b[0;36m1\u001b[0m\u001b[0;34m,\u001b[0m \u001b[0;36m1\u001b[0m\u001b[0;34m,\u001b[0m \u001b[0;36m10\u001b[0m\u001b[0;34m)\u001b[0m\u001b[0;34m\u001b[0m\u001b[0;34m\u001b[0m\u001b[0m\n\u001b[0m",
      "\u001b[0;32m/var/folders/h4/qdmlvsbx67d1r79wvxt1nqhm0000gn/T/ipykernel_84862/373760827.py\u001b[0m in \u001b[0;36mitem_cf\u001b[0;34m(user_id, item_id, topn)\u001b[0m\n\u001b[1;32m     10\u001b[0m     \u001b[0mfavorite_item\u001b[0m \u001b[0;34m=\u001b[0m \u001b[0msorted\u001b[0m\u001b[0;34m(\u001b[0m\u001b[0mfavorite_item\u001b[0m\u001b[0;34m.\u001b[0m\u001b[0mitems\u001b[0m\u001b[0;34m(\u001b[0m\u001b[0;34m)\u001b[0m\u001b[0;34m,\u001b[0m \u001b[0mkey\u001b[0m\u001b[0;34m=\u001b[0m\u001b[0;32mlambda\u001b[0m \u001b[0mx\u001b[0m\u001b[0;34m:\u001b[0m\u001b[0mx\u001b[0m\u001b[0;34m[\u001b[0m\u001b[0;36m1\u001b[0m\u001b[0;34m]\u001b[0m\u001b[0;34m,\u001b[0m \u001b[0mreverse\u001b[0m\u001b[0;34m=\u001b[0m\u001b[0;32mTrue\u001b[0m\u001b[0;34m)\u001b[0m\u001b[0;34m[\u001b[0m\u001b[0;34m:\u001b[0m\u001b[0mtopn\u001b[0m\u001b[0;34m]\u001b[0m\u001b[0;34m\u001b[0m\u001b[0;34m\u001b[0m\u001b[0m\n\u001b[1;32m     11\u001b[0m     \u001b[0;32mfor\u001b[0m \u001b[0mkey\u001b[0m\u001b[0;34m,\u001b[0m \u001b[0mval\u001b[0m \u001b[0;32min\u001b[0m \u001b[0mfavorite_item\u001b[0m\u001b[0;34m:\u001b[0m\u001b[0;34m\u001b[0m\u001b[0;34m\u001b[0m\u001b[0m\n\u001b[0;32m---> 12\u001b[0;31m         \u001b[0mprint\u001b[0m\u001b[0;34m(\u001b[0m\u001b[0mitem_id_to_item_name\u001b[0m\u001b[0;34m[\u001b[0m\u001b[0mkey\u001b[0m\u001b[0;34m]\u001b[0m\u001b[0;34m,\u001b[0m \u001b[0mval\u001b[0m\u001b[0;34m)\u001b[0m\u001b[0;34m\u001b[0m\u001b[0;34m\u001b[0m\u001b[0m\n\u001b[0m\u001b[1;32m     13\u001b[0m     \u001b[0;31m# print(favorite_item)\u001b[0m\u001b[0;34m\u001b[0m\u001b[0;34m\u001b[0m\u001b[0;34m\u001b[0m\u001b[0m\n\u001b[1;32m     14\u001b[0m \u001b[0;34m\u001b[0m\u001b[0m\n",
      "\u001b[0;31mNameError\u001b[0m: name 'item_id_to_item_name' is not defined"
     ]
    }
   ],
   "source": [
    "def item_cf(user_id, item_id, topn):\n",
    "    favorite_items = get_user_favorites(user_id, user_to_rating)  #TODO  获取这个用户喜欢的前n个电影\n",
    "    favorite_item = {}\n",
    "    \n",
    "    for favo_item in favorite_items:\n",
    "        score = 0\n",
    "        sim = get_item_similarity(favo_item, item_id) #TODO  对于两个电影，计算相似度\n",
    "        score += sim * get_item_rating_by_user(user_id, item_id)  #TODO  获取已知喜欢的电影得分\n",
    "        favorite_item[favo_item] = score\n",
    "    favorite_item = sorted(favorite_item.items(), key=lambda x:x[1], reverse=True)[:topn]\n",
    "    for key, val in favorite_item:\n",
    "        print(item_id_to_item_name[key], val)\n",
    "    # print(favorite_item)\n",
    "    \n",
    "item_cf(1, 1, 10)"
   ]
  },
  {
   "cell_type": "code",
   "execution_count": null,
   "id": "52e6b937-c222-4941-b9d7-4a5cc578a8a7",
   "metadata": {},
   "outputs": [],
   "source": []
  }
 ],
 "metadata": {
  "kernelspec": {
   "display_name": "NLP",
   "language": "python",
   "name": "nlp"
  },
  "language_info": {
   "codemirror_mode": {
    "name": "ipython",
    "version": 3
   },
   "file_extension": ".py",
   "mimetype": "text/x-python",
   "name": "python",
   "nbconvert_exporter": "python",
   "pygments_lexer": "ipython3",
   "version": "3.8.12"
  }
 },
 "nbformat": 4,
 "nbformat_minor": 5
}
